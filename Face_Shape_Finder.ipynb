{
  "metadata": {
    "kernelspec": {
      "language": "python",
      "display_name": "Python 3",
      "name": "python3"
    },
    "language_info": {
      "name": "python",
      "version": "3.7.12",
      "mimetype": "text/x-python",
      "codemirror_mode": {
        "name": "ipython",
        "version": 3
      },
      "pygments_lexer": "ipython3",
      "nbconvert_exporter": "python",
      "file_extension": ".py"
    },
    "kaggle": {
      "accelerator": "none",
      "dataSources": [
        {
          "sourceId": 4062693,
          "sourceType": "datasetVersion",
          "datasetId": 2405409
        }
      ],
      "dockerImageVersionId": 30213,
      "isInternetEnabled": true,
      "language": "python",
      "sourceType": "notebook",
      "isGpuEnabled": false
    },
    "colab": {
      "name": "Face Shape Finder",
      "provenance": [],
      "include_colab_link": true
    }
  },
  "nbformat_minor": 0,
  "nbformat": 4,
  "cells": [
    {
      "cell_type": "markdown",
      "metadata": {
        "id": "view-in-github",
        "colab_type": "text"
      },
      "source": [
        "<a href=\"https://colab.research.google.com/github/Sanvvii/HTML/blob/main/Face_Shape_Finder.ipynb\" target=\"_parent\"><img src=\"https://colab.research.google.com/assets/colab-badge.svg\" alt=\"Open In Colab\"/></a>"
      ]
    },
    {
      "source": [
        "# IMPORTANT: RUN THIS CELL IN ORDER TO IMPORT YOUR KAGGLE DATA SOURCES,\n",
        "# THEN FEEL FREE TO DELETE THIS CELL.\n",
        "# NOTE: THIS NOTEBOOK ENVIRONMENT DIFFERS FROM KAGGLE'S PYTHON\n",
        "# ENVIRONMENT SO THERE MAY BE MISSING LIBRARIES USED BY YOUR\n",
        "# NOTEBOOK.\n",
        "import kagglehub\n",
        "lucifierx_face_shape_classification_path = kagglehub.dataset_download('lucifierx/face-shape-classification')\n",
        "\n",
        "print('Data source import complete.')\n"
      ],
      "metadata": {
        "id": "CUht7Uw9Hjxu",
        "outputId": "9f0b9b12-f1ea-4dbc-cdc5-189d3bb275fb",
        "colab": {
          "base_uri": "https://localhost:8080/"
        }
      },
      "cell_type": "code",
      "outputs": [
        {
          "output_type": "stream",
          "name": "stdout",
          "text": [
            "Downloading from https://www.kaggle.com/api/v1/datasets/download/lucifierx/face-shape-classification?dataset_version_number=1...\n"
          ]
        },
        {
          "output_type": "stream",
          "name": "stderr",
          "text": [
            "100%|██████████| 633k/633k [00:00<00:00, 1.09MB/s]"
          ]
        },
        {
          "output_type": "stream",
          "name": "stdout",
          "text": [
            "Extracting files...\n",
            "Data source import complete.\n"
          ]
        },
        {
          "output_type": "stream",
          "name": "stderr",
          "text": [
            "\n"
          ]
        }
      ],
      "execution_count": 1
    },
    {
      "cell_type": "code",
      "source": [
        "# This Python 3 environment comes with many helpful analytics libraries installed\n",
        "# It is defined by the kaggle/python Docker image: https://github.com/kaggle/docker-python\n",
        "# For example, here's several helpful packages to load\n",
        "\n",
        "import numpy as np # linear algebra\n",
        "import pandas as pd # data processing, CSV file I/O (e.g. pd.read_csv)\n",
        "\n",
        "# Input data files are available in the read-only \"../input/\" directory\n",
        "# For example, running this (by clicking run or pressing Shift+Enter) will list all files under the input directory\n",
        "\n",
        "import os\n",
        "for dirname, _, filenames in os.walk('/kaggle/input'):\n",
        "    for filename in filenames:\n",
        "        print(os.path.join(dirname, filename))\n",
        "\n",
        "# You can write up to 20GB to the current directory (/kaggle/working/) that gets preserved as output when you create a version using \"Save & Run All\"\n",
        "# You can also write temporary files to /kaggle/temp/, but they won't be saved outside of the current session"
      ],
      "metadata": {
        "_uuid": "8f2839f25d086af736a60e9eeb907d3b93b6e0e5",
        "_cell_guid": "b1076dfc-b9ad-4769-8c92-a6c4dae69d19",
        "execution": {
          "iopub.status.busy": "2024-12-01T05:46:09.804141Z",
          "iopub.execute_input": "2024-12-01T05:46:09.804596Z",
          "iopub.status.idle": "2024-12-01T05:46:09.88829Z",
          "shell.execute_reply.started": "2024-12-01T05:46:09.804507Z",
          "shell.execute_reply": "2024-12-01T05:46:09.886949Z"
        },
        "trusted": true,
        "id": "qn6jNc0OHjx0"
      },
      "outputs": [],
      "execution_count": 2
    },
    {
      "cell_type": "markdown",
      "source": [
        "<h1 style=\"color: #bb9c55; text-align:center;\"> FACE SHAPE FINDER </h1>"
      ],
      "metadata": {
        "id": "CxL9gbxvHjx2"
      }
    },
    {
      "cell_type": "markdown",
      "source": [
        "# Face Shape Finder\n",
        "![download.jpg](attachment:5e009a44-1b4d-452b-85ec-a1e711bfd14f.jpg)\n",
        "\n"
      ],
      "metadata": {
        "id": "FsataLW4Hjx4"
      }
    },
    {
      "cell_type": "code",
      "source": [
        "import cv2\n",
        "import tensorflow as tf\n",
        "import os\n",
        "import matplotlib.pyplot as plt\n",
        "from tensorflow.keras.preprocessing.image import ImageDataGenerator\n",
        "from tensorflow.keras.optimizers import RMSprop\n",
        "from tensorflow.keras import layers, models\n",
        "from tensorflow.keras.preprocessing import image"
      ],
      "metadata": {
        "execution": {
          "iopub.status.busy": "2024-12-01T05:46:09.890506Z",
          "iopub.execute_input": "2024-12-01T05:46:09.890941Z",
          "iopub.status.idle": "2024-12-01T05:46:16.948158Z",
          "shell.execute_reply.started": "2024-12-01T05:46:09.890901Z",
          "shell.execute_reply": "2024-12-01T05:46:16.94701Z"
        },
        "trusted": true,
        "id": "gjW8CIXgHjx5"
      },
      "outputs": [],
      "execution_count": 3
    },
    {
      "cell_type": "code",
      "source": [
        "train = ImageDataGenerator(rescale=1/255)"
      ],
      "metadata": {
        "execution": {
          "iopub.status.busy": "2024-12-01T05:46:16.949454Z",
          "iopub.execute_input": "2024-12-01T05:46:16.950064Z",
          "iopub.status.idle": "2024-12-01T05:46:16.955888Z",
          "shell.execute_reply.started": "2024-12-01T05:46:16.95002Z",
          "shell.execute_reply": "2024-12-01T05:46:16.954298Z"
        },
        "trusted": true,
        "id": "dDK8jmrAHjx6"
      },
      "outputs": [],
      "execution_count": 4
    },
    {
      "cell_type": "code",
      "source": [
        "train_dataset = train.flow_from_directory('../input/face-shape-classification/face shape detector',target_size=(200,200),batch_size=3, class_mode = 'binary')"
      ],
      "metadata": {
        "execution": {
          "iopub.status.busy": "2024-12-01T05:46:16.958297Z",
          "iopub.execute_input": "2024-12-01T05:46:16.958652Z",
          "iopub.status.idle": "2024-12-01T05:46:17.081965Z",
          "shell.execute_reply.started": "2024-12-01T05:46:16.958618Z",
          "shell.execute_reply": "2024-12-01T05:46:17.080739Z"
        },
        "trusted": true,
        "id": "Yk8dT9dgHjx7",
        "outputId": "3eea2b14-e1c4-434c-e569-36e28614a76d",
        "colab": {
          "base_uri": "https://localhost:8080/",
          "height": 339
        }
      },
      "outputs": [
        {
          "output_type": "error",
          "ename": "FileNotFoundError",
          "evalue": "[Errno 2] No such file or directory: '../input/face-shape-classification/face shape detector'",
          "traceback": [
            "\u001b[0;31m---------------------------------------------------------------------------\u001b[0m",
            "\u001b[0;31mFileNotFoundError\u001b[0m                         Traceback (most recent call last)",
            "\u001b[0;32m/tmp/ipython-input-5-754221023.py\u001b[0m in \u001b[0;36m<cell line: 0>\u001b[0;34m()\u001b[0m\n\u001b[0;32m----> 1\u001b[0;31m \u001b[0mtrain_dataset\u001b[0m \u001b[0;34m=\u001b[0m \u001b[0mtrain\u001b[0m\u001b[0;34m.\u001b[0m\u001b[0mflow_from_directory\u001b[0m\u001b[0;34m(\u001b[0m\u001b[0;34m'../input/face-shape-classification/face shape detector'\u001b[0m\u001b[0;34m,\u001b[0m\u001b[0mtarget_size\u001b[0m\u001b[0;34m=\u001b[0m\u001b[0;34m(\u001b[0m\u001b[0;36m200\u001b[0m\u001b[0;34m,\u001b[0m\u001b[0;36m200\u001b[0m\u001b[0;34m)\u001b[0m\u001b[0;34m,\u001b[0m\u001b[0mbatch_size\u001b[0m\u001b[0;34m=\u001b[0m\u001b[0;36m3\u001b[0m\u001b[0;34m,\u001b[0m \u001b[0mclass_mode\u001b[0m \u001b[0;34m=\u001b[0m \u001b[0;34m'binary'\u001b[0m\u001b[0;34m)\u001b[0m\u001b[0;34m\u001b[0m\u001b[0;34m\u001b[0m\u001b[0m\n\u001b[0m",
            "\u001b[0;32m/usr/local/lib/python3.11/dist-packages/keras/src/legacy/preprocessing/image.py\u001b[0m in \u001b[0;36mflow_from_directory\u001b[0;34m(self, directory, target_size, color_mode, classes, class_mode, batch_size, shuffle, seed, save_to_dir, save_prefix, save_format, follow_links, subset, interpolation, keep_aspect_ratio)\u001b[0m\n\u001b[1;32m   1136\u001b[0m         \u001b[0mkeep_aspect_ratio\u001b[0m\u001b[0;34m=\u001b[0m\u001b[0;32mFalse\u001b[0m\u001b[0;34m,\u001b[0m\u001b[0;34m\u001b[0m\u001b[0;34m\u001b[0m\u001b[0m\n\u001b[1;32m   1137\u001b[0m     ):\n\u001b[0;32m-> 1138\u001b[0;31m         return DirectoryIterator(\n\u001b[0m\u001b[1;32m   1139\u001b[0m             \u001b[0mdirectory\u001b[0m\u001b[0;34m,\u001b[0m\u001b[0;34m\u001b[0m\u001b[0;34m\u001b[0m\u001b[0m\n\u001b[1;32m   1140\u001b[0m             \u001b[0mself\u001b[0m\u001b[0;34m,\u001b[0m\u001b[0;34m\u001b[0m\u001b[0;34m\u001b[0m\u001b[0m\n",
            "\u001b[0;32m/usr/local/lib/python3.11/dist-packages/keras/src/legacy/preprocessing/image.py\u001b[0m in \u001b[0;36m__init__\u001b[0;34m(self, directory, image_data_generator, target_size, color_mode, classes, class_mode, batch_size, shuffle, seed, data_format, save_to_dir, save_prefix, save_format, follow_links, subset, interpolation, keep_aspect_ratio, dtype)\u001b[0m\n\u001b[1;32m    451\u001b[0m         \u001b[0;32mif\u001b[0m \u001b[0;32mnot\u001b[0m \u001b[0mclasses\u001b[0m\u001b[0;34m:\u001b[0m\u001b[0;34m\u001b[0m\u001b[0;34m\u001b[0m\u001b[0m\n\u001b[1;32m    452\u001b[0m             \u001b[0mclasses\u001b[0m \u001b[0;34m=\u001b[0m \u001b[0;34m[\u001b[0m\u001b[0;34m]\u001b[0m\u001b[0;34m\u001b[0m\u001b[0;34m\u001b[0m\u001b[0m\n\u001b[0;32m--> 453\u001b[0;31m             \u001b[0;32mfor\u001b[0m \u001b[0msubdir\u001b[0m \u001b[0;32min\u001b[0m \u001b[0msorted\u001b[0m\u001b[0;34m(\u001b[0m\u001b[0mos\u001b[0m\u001b[0;34m.\u001b[0m\u001b[0mlistdir\u001b[0m\u001b[0;34m(\u001b[0m\u001b[0mdirectory\u001b[0m\u001b[0;34m)\u001b[0m\u001b[0;34m)\u001b[0m\u001b[0;34m:\u001b[0m\u001b[0;34m\u001b[0m\u001b[0;34m\u001b[0m\u001b[0m\n\u001b[0m\u001b[1;32m    454\u001b[0m                 \u001b[0;32mif\u001b[0m \u001b[0mos\u001b[0m\u001b[0;34m.\u001b[0m\u001b[0mpath\u001b[0m\u001b[0;34m.\u001b[0m\u001b[0misdir\u001b[0m\u001b[0;34m(\u001b[0m\u001b[0mos\u001b[0m\u001b[0;34m.\u001b[0m\u001b[0mpath\u001b[0m\u001b[0;34m.\u001b[0m\u001b[0mjoin\u001b[0m\u001b[0;34m(\u001b[0m\u001b[0mdirectory\u001b[0m\u001b[0;34m,\u001b[0m \u001b[0msubdir\u001b[0m\u001b[0;34m)\u001b[0m\u001b[0;34m)\u001b[0m\u001b[0;34m:\u001b[0m\u001b[0;34m\u001b[0m\u001b[0;34m\u001b[0m\u001b[0m\n\u001b[1;32m    455\u001b[0m                     \u001b[0mclasses\u001b[0m\u001b[0;34m.\u001b[0m\u001b[0mappend\u001b[0m\u001b[0;34m(\u001b[0m\u001b[0msubdir\u001b[0m\u001b[0;34m)\u001b[0m\u001b[0;34m\u001b[0m\u001b[0;34m\u001b[0m\u001b[0m\n",
            "\u001b[0;31mFileNotFoundError\u001b[0m: [Errno 2] No such file or directory: '../input/face-shape-classification/face shape detector'"
          ]
        }
      ],
      "execution_count": 5
    },
    {
      "cell_type": "code",
      "source": [
        "train_dataset.class_indices"
      ],
      "metadata": {
        "execution": {
          "iopub.status.busy": "2024-12-01T05:46:17.083747Z",
          "iopub.execute_input": "2024-12-01T05:46:17.084258Z",
          "iopub.status.idle": "2024-12-01T05:46:17.095288Z",
          "shell.execute_reply.started": "2024-12-01T05:46:17.084209Z",
          "shell.execute_reply": "2024-12-01T05:46:17.093793Z"
        },
        "trusted": true,
        "id": "csyBnbxvHjx8"
      },
      "outputs": [],
      "execution_count": null
    },
    {
      "cell_type": "code",
      "source": [
        "classess = ['diamond','heart','oblong','oval','round','square','triangle']"
      ],
      "metadata": {
        "execution": {
          "iopub.status.busy": "2024-12-01T05:46:17.096799Z",
          "iopub.execute_input": "2024-12-01T05:46:17.097788Z",
          "iopub.status.idle": "2024-12-01T05:46:17.109288Z",
          "shell.execute_reply.started": "2024-12-01T05:46:17.097728Z",
          "shell.execute_reply": "2024-12-01T05:46:17.108029Z"
        },
        "trusted": true,
        "id": "kZIb6e5vHjx9"
      },
      "outputs": [],
      "execution_count": null
    },
    {
      "cell_type": "markdown",
      "source": [
        "# Face shape finder using ANN"
      ],
      "metadata": {
        "id": "E0F4t90UHjx-"
      }
    },
    {
      "cell_type": "code",
      "source": [
        "ann = models.Sequential([\n",
        "        layers.Flatten(input_shape=(200,200,3)),\n",
        "        layers.Dense(3000, activation='relu'),\n",
        "        layers.Dense(1000, activation='relu'),\n",
        "        layers.Dense(7, activation='softmax')\n",
        "    ])\n",
        "\n",
        "ann.compile(optimizer='SGD',\n",
        "              loss='sparse_categorical_crossentropy',\n",
        "              metrics=['accuracy'])\n",
        "\n",
        "ann.fit(train_dataset ,epochs=5)"
      ],
      "metadata": {
        "execution": {
          "iopub.status.busy": "2024-12-01T05:46:17.110553Z",
          "iopub.execute_input": "2024-12-01T05:46:17.111009Z",
          "iopub.status.idle": "2024-12-01T05:47:32.843821Z",
          "shell.execute_reply.started": "2024-12-01T05:46:17.110974Z",
          "shell.execute_reply": "2024-12-01T05:47:32.842601Z"
        },
        "trusted": true,
        "id": "rxtgyPBFHjx-"
      },
      "outputs": [],
      "execution_count": null
    },
    {
      "cell_type": "code",
      "source": [
        "img = cv2.imread(\"../input/face-shape-classification/face shape detector/diamond/download (10).jpg\")\n",
        "plt.imshow(img)\n",
        "plt.show()\n",
        "img = cv2.resize(img,(200,200))\n",
        "img = np.reshape(img,[1,200,200,3])\n",
        "classes = ann.predict(img)\n",
        "print(np.argmax(classes))\n",
        "z = (np.argmax(classes))\n",
        "print(classess[z])"
      ],
      "metadata": {
        "execution": {
          "iopub.status.busy": "2024-12-01T05:47:32.845555Z",
          "iopub.execute_input": "2024-12-01T05:47:32.846021Z",
          "iopub.status.idle": "2024-12-01T05:47:33.319358Z",
          "shell.execute_reply.started": "2024-12-01T05:47:32.845975Z",
          "shell.execute_reply": "2024-12-01T05:47:33.318177Z"
        },
        "trusted": true,
        "id": "Ssmv_J4XHjx_"
      },
      "outputs": [],
      "execution_count": null
    },
    {
      "cell_type": "markdown",
      "source": [
        "# Face shape finder using CNN"
      ],
      "metadata": {
        "id": "rL0nv-qQHjyA"
      }
    },
    {
      "cell_type": "code",
      "source": [
        "cnn=tf.keras.Sequential()\n",
        "cnn.add(tf.keras.layers.Conv2D(filters=64,padding='same',strides=2,kernel_size=3,activation='relu',input_shape=(200,200,3)))\n",
        "cnn.add(tf.keras.layers.MaxPool2D(pool_size=2,strides=2))\n",
        "\n",
        "cnn.add(tf.keras.layers.Conv2D(filters=32,padding='same',strides=2,kernel_size=3,activation='relu'))\n",
        "cnn.add(tf.keras.layers.MaxPool2D(pool_size=2,strides=2))\n",
        "\n",
        "cnn.add(tf.keras.layers.Conv2D(filters=32,padding='same',strides=2,kernel_size=3,activation='relu'))\n",
        "cnn.add(tf.keras.layers.MaxPool2D(pool_size=2))\n",
        "\n",
        "cnn.add(tf.keras.layers.Flatten())\n",
        "cnn.add(tf.keras.layers.Dense(7,activation='softmax'))"
      ],
      "metadata": {
        "execution": {
          "iopub.status.busy": "2024-12-01T05:47:33.321043Z",
          "iopub.execute_input": "2024-12-01T05:47:33.321468Z",
          "iopub.status.idle": "2024-12-01T05:47:33.387935Z",
          "shell.execute_reply.started": "2024-12-01T05:47:33.321425Z",
          "shell.execute_reply": "2024-12-01T05:47:33.386677Z"
        },
        "trusted": true,
        "id": "RDTrUtI0HjyA"
      },
      "outputs": [],
      "execution_count": null
    },
    {
      "cell_type": "code",
      "source": [
        "cnn.compile(optimizer='adam',\n",
        "              loss='sparse_categorical_crossentropy',\n",
        "              metrics=['accuracy'])"
      ],
      "metadata": {
        "execution": {
          "iopub.status.busy": "2024-12-01T05:47:33.391205Z",
          "iopub.execute_input": "2024-12-01T05:47:33.391585Z",
          "iopub.status.idle": "2024-12-01T05:47:33.406508Z",
          "shell.execute_reply.started": "2024-12-01T05:47:33.391552Z",
          "shell.execute_reply": "2024-12-01T05:47:33.405358Z"
        },
        "trusted": true,
        "id": "zKiRF4uWHjyB"
      },
      "outputs": [],
      "execution_count": null
    },
    {
      "cell_type": "code",
      "source": [
        "cnn.fit(train_dataset,epochs=10)"
      ],
      "metadata": {
        "execution": {
          "iopub.status.busy": "2024-12-01T05:47:33.407677Z",
          "iopub.execute_input": "2024-12-01T05:47:33.40805Z",
          "iopub.status.idle": "2024-12-01T05:47:42.513991Z",
          "shell.execute_reply.started": "2024-12-01T05:47:33.408007Z",
          "shell.execute_reply": "2024-12-01T05:47:42.51257Z"
        },
        "trusted": true,
        "id": "gS93I4hLHjyB"
      },
      "outputs": [],
      "execution_count": null
    },
    {
      "cell_type": "code",
      "source": [
        "img = cv2.imread(\"../input/face-shape-classification/face shape detector/diamond/download (10).jpg\")\n",
        "plt.imshow(img)\n",
        "plt.show()\n",
        "img = cv2.resize(img,(200,200))\n",
        "img = np.reshape(img,[1,200,200,3])\n",
        "classes = cnn.predict(img)\n",
        "print(np.argmax(classes))"
      ],
      "metadata": {
        "execution": {
          "iopub.status.busy": "2024-12-01T05:47:42.515353Z",
          "iopub.execute_input": "2024-12-01T05:47:42.515729Z",
          "iopub.status.idle": "2024-12-01T05:47:42.850779Z",
          "shell.execute_reply.started": "2024-12-01T05:47:42.515654Z",
          "shell.execute_reply": "2024-12-01T05:47:42.849477Z"
        },
        "trusted": true,
        "id": "A0qFAR8fHjyB"
      },
      "outputs": [],
      "execution_count": null
    },
    {
      "cell_type": "code",
      "source": [
        "img = cv2.imread(\"../input/face-shape-classification/face shape detector/oval/download (1).jpg\")\n",
        "plt.imshow(img)\n",
        "plt.show()\n",
        "img = cv2.resize(img,(200,200))\n",
        "img = np.reshape(img,[1,200,200,3])\n",
        "classes = cnn.predict(img)\n",
        "z = (np.argmax(classes))\n",
        "print(z)"
      ],
      "metadata": {
        "trusted": true,
        "execution": {
          "iopub.status.busy": "2024-12-01T05:47:42.85238Z",
          "iopub.execute_input": "2024-12-01T05:47:42.852724Z",
          "iopub.status.idle": "2024-12-01T05:47:43.132009Z",
          "shell.execute_reply.started": "2024-12-01T05:47:42.85269Z",
          "shell.execute_reply": "2024-12-01T05:47:43.130765Z"
        },
        "id": "LBexDyp5HjyC"
      },
      "outputs": [],
      "execution_count": null
    },
    {
      "cell_type": "code",
      "source": [
        "classess = ['diamond','heart','oblong','oval','round','square','triangle']"
      ],
      "metadata": {
        "trusted": true,
        "execution": {
          "iopub.status.busy": "2024-12-01T05:47:43.133668Z",
          "iopub.execute_input": "2024-12-01T05:47:43.134166Z",
          "iopub.status.idle": "2024-12-01T05:47:43.140518Z",
          "shell.execute_reply.started": "2024-12-01T05:47:43.13412Z",
          "shell.execute_reply": "2024-12-01T05:47:43.139132Z"
        },
        "id": "yncXx36-HjyC"
      },
      "outputs": [],
      "execution_count": null
    },
    {
      "cell_type": "code",
      "source": [
        "img = cv2.imread(\"../input/face-shape-classification/face shape detector/oval/download (1).jpg\")\n",
        "plt.imshow(img)\n",
        "plt.show()\n",
        "img = cv2.resize(img,(200,200))\n",
        "img = np.reshape(img,[1,200,200,3])\n",
        "classes = cnn.predict(img)\n",
        "z = (np.argmax(classes))\n",
        "print(classess[z])"
      ],
      "metadata": {
        "trusted": true,
        "execution": {
          "iopub.status.busy": "2024-12-01T05:47:43.142327Z",
          "iopub.execute_input": "2024-12-01T05:47:43.142795Z",
          "iopub.status.idle": "2024-12-01T05:47:43.417936Z",
          "shell.execute_reply.started": "2024-12-01T05:47:43.142735Z",
          "shell.execute_reply": "2024-12-01T05:47:43.416541Z"
        },
        "id": "2sAtv7gIHjyC"
      },
      "outputs": [],
      "execution_count": null
    },
    {
      "cell_type": "code",
      "source": [
        "img = cv2.imread(\"../input/face-shape-classification/face shape detector/heart/download (9).jpg\")\n",
        "plt.imshow(img)\n",
        "plt.show()\n",
        "img = cv2.resize(img,(200,200))\n",
        "img = np.reshape(img,[1,200,200,3])\n",
        "classes = cnn.predict(img)\n",
        "print(classes)\n",
        "z = (np.argmax(classes))\n",
        "print(z)\n",
        "print(classess[z])"
      ],
      "metadata": {
        "trusted": true,
        "execution": {
          "iopub.status.busy": "2024-12-01T05:47:43.419259Z",
          "iopub.execute_input": "2024-12-01T05:47:43.419598Z",
          "iopub.status.idle": "2024-12-01T05:47:43.667194Z",
          "shell.execute_reply.started": "2024-12-01T05:47:43.419566Z",
          "shell.execute_reply": "2024-12-01T05:47:43.665892Z"
        },
        "id": "oQzJ_jn-HjyD"
      },
      "outputs": [],
      "execution_count": null
    },
    {
      "cell_type": "code",
      "source": [
        "import matplotlib.pyplot as plt\n",
        "import matplotlib\n",
        "import seaborn as sns"
      ],
      "metadata": {
        "trusted": true,
        "execution": {
          "iopub.status.busy": "2024-12-01T05:47:43.668767Z",
          "iopub.execute_input": "2024-12-01T05:47:43.669316Z",
          "iopub.status.idle": "2024-12-01T05:47:44.082746Z",
          "shell.execute_reply.started": "2024-12-01T05:47:43.669263Z",
          "shell.execute_reply": "2024-12-01T05:47:44.081373Z"
        },
        "id": "nAgYkhc9HjyD"
      },
      "outputs": [],
      "execution_count": null
    },
    {
      "cell_type": "code",
      "source": [
        "train_dataset.classes"
      ],
      "metadata": {
        "trusted": true,
        "execution": {
          "iopub.status.busy": "2024-12-01T05:47:44.084229Z",
          "iopub.execute_input": "2024-12-01T05:47:44.084534Z",
          "iopub.status.idle": "2024-12-01T05:47:44.092428Z",
          "shell.execute_reply.started": "2024-12-01T05:47:44.084505Z",
          "shell.execute_reply": "2024-12-01T05:47:44.091002Z"
        },
        "id": "nrIXF_xIHjyE"
      },
      "outputs": [],
      "execution_count": null
    },
    {
      "cell_type": "code",
      "source": [
        "sns.countplot(train_dataset.classes)"
      ],
      "metadata": {
        "trusted": true,
        "execution": {
          "iopub.status.busy": "2024-12-01T05:47:44.09387Z",
          "iopub.execute_input": "2024-12-01T05:47:44.094993Z",
          "iopub.status.idle": "2024-12-01T05:47:44.286277Z",
          "shell.execute_reply.started": "2024-12-01T05:47:44.094944Z",
          "shell.execute_reply": "2024-12-01T05:47:44.285136Z"
        },
        "id": "73AU9UXOHjyE"
      },
      "outputs": [],
      "execution_count": null
    },
    {
      "cell_type": "code",
      "source": [
        "cnn.save('cnn.h5')"
      ],
      "metadata": {
        "trusted": true,
        "execution": {
          "iopub.status.busy": "2024-12-01T05:47:44.287552Z",
          "iopub.execute_input": "2024-12-01T05:47:44.287895Z",
          "iopub.status.idle": "2024-12-01T05:47:44.31951Z",
          "shell.execute_reply.started": "2024-12-01T05:47:44.287858Z",
          "shell.execute_reply": "2024-12-01T05:47:44.318367Z"
        },
        "id": "z0HGtFXAHjyE"
      },
      "outputs": [],
      "execution_count": null
    },
    {
      "cell_type": "code",
      "source": [],
      "metadata": {
        "trusted": true,
        "id": "18BGjLzRHjyF"
      },
      "outputs": [],
      "execution_count": null
    }
  ]
}